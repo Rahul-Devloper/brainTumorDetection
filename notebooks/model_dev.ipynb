{
 "cells": [
  {
   "cell_type": "markdown",
   "id": "b45b61ba",
   "metadata": {},
   "source": [
    "Library Imports"
   ]
  },
  {
   "cell_type": "code",
   "execution_count": 58,
   "id": "97574065",
   "metadata": {},
   "outputs": [],
   "source": [
    "import numpy as np # linear algebra\n",
    "import pandas as pd # data processing, CSV file I/O (e.g. pd.read_csv)\n",
    "import os\n",
    "import cv2\n",
    "from pathlib import Path\n",
    "import seaborn as sns\n",
    "import matplotlib.pyplot as plt\n"
   ]
  },
  {
   "cell_type": "code",
   "execution_count": 59,
   "id": "5628b68a",
   "metadata": {},
   "outputs": [
    {
     "data": {
      "text/plain": [
       "WindowsPath('data/binary_split')"
      ]
     },
     "execution_count": 59,
     "metadata": {},
     "output_type": "execute_result"
    }
   ],
   "source": [
    "# Define path to the data directory\n",
    "data_dir = Path('data/binary_split')\n",
    "\n",
    "data_dir"
   ]
  },
  {
   "cell_type": "code",
   "execution_count": 60,
   "id": "cdb35c55",
   "metadata": {},
   "outputs": [
    {
     "name": "stdout",
     "output_type": "stream",
     "text": [
      "data\\binary_split\\train\n",
      "data\\binary_split\\train\\tumor\n"
     ]
    }
   ],
   "source": [
    "train_dir = data_dir / 'train'\n",
    "print(train_dir)\n",
    "test_dir = data_dir / 'test'\n",
    "\n",
    "tumor_dir = train_dir / 'tumor'\n",
    "no_tumor_dir = train_dir / 'no_tumor'\n",
    "print(tumor_dir)"
   ]
  },
  {
   "cell_type": "code",
   "execution_count": 70,
   "id": "4cbf2bb4",
   "metadata": {},
   "outputs": [
    {
     "name": "stdout",
     "output_type": "stream",
     "text": [
      "Tumor Cases: 4117\n",
      "No Tumor Cases: 1595\n",
      "Tr-glTr_0000.jpg\n",
      "Tr-glTr_0001.jpg\n",
      "Tr-glTr_0002.jpg\n",
      "Tr-glTr_0003.jpg\n",
      "Tr-glTr_0004.jpg\n"
     ]
    }
   ],
   "source": [
    "\n",
    "data_dir = Path(\"../data/binary_split\")\n",
    "train_dir = data_dir / \"train\"\n",
    "tumor_dir = train_dir / \"tumor\"\n",
    "no_tumor_dir = train_dir / \"no_tumor\"\n",
    "\n",
    "\n",
    "# print(\"CWD:\", os.getcwd())\n",
    "# print(\"Path:\", tumor_dir.resolve())\n",
    "# print(\"Dir exists:\", tumor_dir.exists())\n",
    "# print(\"Contents:\", list(tumor_dir.iterdir())[:5])\n",
    "\n",
    "tumor_cases = list(tumor_dir.glob(\"*.jpg\"))\n",
    "no_tumor_cases = list(no_tumor_dir.glob(\"*.jpg\"))\n",
    "\n",
    "print(f\"Tumor Cases: {len(tumor_cases)}\")\n",
    "print(f\"No Tumor Cases: {len(no_tumor_cases)}\")\n",
    "\n",
    "# See some file names\n",
    "for case in tumor_cases[:5]:\n",
    "    print(case.name)\n"
   ]
  },
  {
   "cell_type": "markdown",
   "id": "abfefb5e",
   "metadata": {},
   "source": [
    "Prepping the Data"
   ]
  },
  {
   "cell_type": "code",
   "execution_count": 81,
   "id": "88af000e",
   "metadata": {},
   "outputs": [
    {
     "name": "stdout",
     "output_type": "stream",
     "text": [
      "Total training data: 5712\n",
      "First 5 entries in train_data:[(WindowsPath('../data/binary_split/train/no_tumor/Tr-noTr_0000.jpg'), 0), (WindowsPath('../data/binary_split/train/no_tumor/Tr-noTr_0001.jpg'), 0), (WindowsPath('../data/binary_split/train/no_tumor/Tr-noTr_0002.jpg'), 0), (WindowsPath('../data/binary_split/train/no_tumor/Tr-noTr_0003.jpg'), 0), (WindowsPath('../data/binary_split/train/no_tumor/Tr-noTr_0004.jpg'), 0)]\n",
      "0\n"
     ]
    },
    {
     "data": {
      "text/html": [
       "<div>\n",
       "<style scoped>\n",
       "    .dataframe tbody tr th:only-of-type {\n",
       "        vertical-align: middle;\n",
       "    }\n",
       "\n",
       "    .dataframe tbody tr th {\n",
       "        vertical-align: top;\n",
       "    }\n",
       "\n",
       "    .dataframe thead th {\n",
       "        text-align: right;\n",
       "    }\n",
       "</style>\n",
       "<table border=\"1\" class=\"dataframe\">\n",
       "  <thead>\n",
       "    <tr style=\"text-align: right;\">\n",
       "      <th></th>\n",
       "      <th>image</th>\n",
       "      <th>label</th>\n",
       "    </tr>\n",
       "  </thead>\n",
       "  <tbody>\n",
       "    <tr>\n",
       "      <th>0</th>\n",
       "      <td>..\\data\\binary_split\\train\\no_tumor\\Tr-no_0986...</td>\n",
       "      <td>0</td>\n",
       "    </tr>\n",
       "    <tr>\n",
       "      <th>1</th>\n",
       "      <td>..\\data\\binary_split\\train\\no_tumor\\Tr-no_1008...</td>\n",
       "      <td>0</td>\n",
       "    </tr>\n",
       "    <tr>\n",
       "      <th>2</th>\n",
       "      <td>..\\data\\binary_split\\train\\no_tumor\\Tr-no_1290...</td>\n",
       "      <td>0</td>\n",
       "    </tr>\n",
       "    <tr>\n",
       "      <th>3</th>\n",
       "      <td>..\\data\\binary_split\\train\\no_tumor\\Tr-no_0193...</td>\n",
       "      <td>0</td>\n",
       "    </tr>\n",
       "    <tr>\n",
       "      <th>4</th>\n",
       "      <td>..\\data\\binary_split\\train\\tumor\\Tr-gl_1213.jpg</td>\n",
       "      <td>1</td>\n",
       "    </tr>\n",
       "  </tbody>\n",
       "</table>\n",
       "</div>"
      ],
      "text/plain": [
       "                                               image  label\n",
       "0  ..\\data\\binary_split\\train\\no_tumor\\Tr-no_0986...      0\n",
       "1  ..\\data\\binary_split\\train\\no_tumor\\Tr-no_1008...      0\n",
       "2  ..\\data\\binary_split\\train\\no_tumor\\Tr-no_1290...      0\n",
       "3  ..\\data\\binary_split\\train\\no_tumor\\Tr-no_0193...      0\n",
       "4    ..\\data\\binary_split\\train\\tumor\\Tr-gl_1213.jpg      1"
      ]
     },
     "execution_count": 81,
     "metadata": {},
     "output_type": "execute_result"
    }
   ],
   "source": [
    "# An empty list. We will insert the data into this list in (img_path, label) format\n",
    "train_data = []\n",
    "\n",
    "for img in no_tumor_cases:\n",
    "    train_data.append((img, 0))  # 0 for no tumor\n",
    "\n",
    "for img in tumor_cases:\n",
    "    train_data.append((img, 1))  # 1 for tumor\n",
    "\n",
    "print(f\"Total training data: {len(train_data)}\")\n",
    "print(\"First 5 entries in train_data:\" + str(train_data[:5]))\n",
    "print(train_data[5][1])\n",
    "\n",
    "# Get a pandas dataframe from the data we have in our list \n",
    "train_data = pd.DataFrame(train_data, columns=['image', 'label'],index=None)\n",
    "\n",
    "# Shuffle the data \n",
    "train_data = train_data.sample(frac=1.).reset_index(drop=True)\n",
    "\n",
    "# Display the first few rows of the dataframe\n",
    "train_data.head()"
   ]
  },
  {
   "cell_type": "code",
   "execution_count": 84,
   "id": "3e8cae6f",
   "metadata": {},
   "outputs": [
    {
     "data": {
      "text/plain": [
       "(5712, 2)"
      ]
     },
     "execution_count": 84,
     "metadata": {},
     "output_type": "execute_result"
    }
   ],
   "source": [
    "train_data.shape"
   ]
  },
  {
   "cell_type": "code",
   "execution_count": 88,
   "id": "3f60566c",
   "metadata": {},
   "outputs": [
    {
     "name": "stdout",
     "output_type": "stream",
     "text": [
      "label\n",
      "1    4117\n",
      "0    1595\n",
      "Name: count, dtype: int64\n"
     ]
    }
   ],
   "source": [
    "# Get the counts for each class\n",
    "cases_count = train_data['label'].value_counts()\n",
    "print(cases_count)"
   ]
  },
  {
   "cell_type": "markdown",
   "id": "650838a4",
   "metadata": {},
   "source": [
    "Plotting the values"
   ]
  },
  {
   "cell_type": "code",
   "execution_count": 90,
   "id": "4ac87b3e",
   "metadata": {},
   "outputs": [
    {
     "data": {
      "image/png": "[encoded data removed]",
      "text/plain": [
       "<Figure size 1000x800 with 1 Axes>"
      ]
     },
     "metadata": {},
     "output_type": "display_data"
    }
   ],
   "source": [
    "# Plot the results \n",
    "plt.figure(figsize=(10,8))\n",
    "sns.barplot(x=cases_count.index, y= cases_count.values)\n",
    "plt.title('Number of cases', fontsize=14)\n",
    "plt.xlabel('Case type', fontsize=12)\n",
    "plt.ylabel('Count', fontsize=12)\n",
    "plt.xticks(range(len(cases_count.index)), ['No Tumor(0)', 'Tumor(1)'])\n",
    "plt.show()"
   ]
  },
  {
   "cell_type": "code",
   "execution_count": null,
   "id": "083cb3da",
   "metadata": {},
   "outputs": [],
   "source": [
    "import matplotlib.pyplot as plt\n",
    "from PIL import Image\n",
    "\n",
    "# Separate tumor and no_tumor images\n",
    "tumor_images = train_data[train_data['label'] == 1]['image'].values[:5]\n",
    "no_tumor_images = train_data[train_data['label'] == 0]['image'].values[:5]\n",
    "\n",
    "plt.figure(figsize=(15, 6))\n",
    "\n",
    "# Plot tumor images (top row)\n",
    "for i, img_path in enumerate(tumor_images):\n",
    "    plt.subplot(2, 5, i + 1)\n",
    "    img = Image.open(img_path)\n",
    "    plt.imshow(img)\n",
    "    plt.title(\"Tumor\")\n",
    "    plt.axis('off')\n",
    "\n",
    "# Plot no_tumor images (bottom row)\n",
    "for i, img_path in enumerate(no_tumor_images):\n",
    "    plt.subplot(2, 5, i + 6)\n",
    "    img = Image.open(img_path)\n",
    "    plt.imshow(img)\n",
    "    plt.title(\"No Tumor\")\n",
    "    plt.axis('off')\n",
    "\n",
    "plt.tight_layout()\n",
    "plt.show()\n"
   ]
  }
 ],
 "metadata": {
  "kernelspec": {
   "display_name": "brain_mri_env",
   "language": "python",
   "name": "python3"
  },
  "language_info": {
   "codemirror_mode": {
    "name": "ipython",
    "version": 3
   },
   "file_extension": ".py",
   "mimetype": "text/x-python",
   "name": "python",
   "nbconvert_exporter": "python",
   "pygments_lexer": "ipython3",
   "version": "3.9.23"
  }
 },
 "nbformat": 4,
 "nbformat_minor": 5
}
