{
 "cells": [
  {
   "cell_type": "markdown",
   "id": "b45b61ba",
   "metadata": {},
   "source": [
    "Library Imports"
   ]
  },
  {
   "cell_type": "code",
   "execution_count": 58,
   "id": "97574065",
   "metadata": {},
   "outputs": [],
   "source": [
    "import numpy as np # linear algebra\n",
    "import pandas as pd # data processing, CSV file I/O (e.g. pd.read_csv)\n",
    "import os\n",
    "import cv2\n",
    "from pathlib import Path\n",
    "import seaborn as sns\n",
    "import matplotlib.pyplot as plt\n"
   ]
  },
  {
   "cell_type": "code",
   "execution_count": 59,
   "id": "5628b68a",
   "metadata": {},
   "outputs": [
    {
     "data": {
      "text/plain": [
       "WindowsPath('data/binary_split')"
      ]
     },
     "execution_count": 59,
     "metadata": {},
     "output_type": "execute_result"
    }
   ],
   "source": [
    "# Define path to the data directory\n",
    "data_dir = Path('data/binary_split')\n",
    "\n",
    "data_dir"
   ]
  },
  {
   "cell_type": "code",
   "execution_count": 60,
   "id": "cdb35c55",
   "metadata": {},
   "outputs": [
    {
     "name": "stdout",
     "output_type": "stream",
     "text": [
      "data\\binary_split\\train\n",
      "data\\binary_split\\train\\tumor\n"
     ]
    }
   ],
   "source": [
    "train_dir = data_dir / 'train'\n",
    "print(train_dir)\n",
    "test_dir = data_dir / 'test'\n",
    "\n",
    "tumor_dir = train_dir / 'tumor'\n",
    "no_tumor_dir = train_dir / 'no_tumor'\n",
    "print(tumor_dir)"
   ]
  },
  {
   "cell_type": "code",
   "execution_count": null,
   "id": "4cbf2bb4",
   "metadata": {},
   "outputs": [
    {
     "name": "stdout",
     "output_type": "stream",
     "text": [
      "CWD: d:\\ML_Projects\\brainTumorDetection\\notebooks\n",
      "Path: D:\\ML_Projects\\brainTumorDetection\\data\\binary_split\\train\\tumor\n",
      "Dir exists: True\n",
      "Contents: [WindowsPath('../data/binary_split/train/tumor/Tr-glTr_0000.jpg'), WindowsPath('../data/binary_split/train/tumor/Tr-glTr_0001.jpg'), WindowsPath('../data/binary_split/train/tumor/Tr-glTr_0002.jpg'), WindowsPath('../data/binary_split/train/tumor/Tr-glTr_0003.jpg'), WindowsPath('../data/binary_split/train/tumor/Tr-glTr_0004.jpg')]\n",
      "Found 0 image files in the tumor directory (glob).\n",
      "Tumor Cases: 0\n",
      "No Tumor Cases: 0\n"
     ]
    }
   ],
   "source": [
    "from pathlib import Path\n",
    "import glob\n",
    "\n",
    "import os\n",
    "\n",
    "data_dir = Path(\"../data/binary_split\")\n",
    "tumor_dir = data_dir / \"train\" / \"tumor\"\n",
    "\n",
    "print(\"CWD:\", os.getcwd())\n",
    "print(\"Path:\", tumor_dir.resolve())\n",
    "print(\"Dir exists:\", tumor_dir.exists())\n",
    "print(\"Contents:\", list(tumor_dir.iterdir())[:5])\n",
    "\n",
    "\n",
    "data_dir = Path(\"data/binary_split\")\n",
    "train_dir = data_dir / \"train\"\n",
    "tumor_dir = train_dir / \"tumor\"\n",
    "no_tumor_dir = train_dir / \"no_tumor\"\n",
    "\n",
    "# Method 1 (glob)\n",
    "new = glob.glob(str(tumor_dir / \"*.jpg\"))\n",
    "print(f\"Found {len(new)} image files in the tumor directory (glob).\")\n",
    "\n",
    "# Method 2 (Pathlib)\n",
    "tumor_cases = list(tumor_dir.glob(\"*.jpg\"))\n",
    "no_tumor_cases = list(no_tumor_dir.glob(\"*.jpg\"))\n",
    "\n",
    "print(f\"Tumor Cases: {len(tumor_cases)}\")\n",
    "print(f\"No Tumor Cases: {len(no_tumor_cases)}\")\n",
    "\n",
    "# See some file names\n",
    "for case in tumor_cases[:5]:\n",
    "    print(case.name)\n"
   ]
  },
  {
   "cell_type": "code",
   "execution_count": null,
   "id": "7667e796",
   "metadata": {},
   "outputs": [],
   "source": []
  }
 ],
 "metadata": {
  "kernelspec": {
   "display_name": "brain_mri_env",
   "language": "python",
   "name": "python3"
  },
  "language_info": {
   "codemirror_mode": {
    "name": "ipython",
    "version": 3
   },
   "file_extension": ".py",
   "mimetype": "text/x-python",
   "name": "python",
   "nbconvert_exporter": "python",
   "pygments_lexer": "ipython3",
   "version": "3.9.23"
  }
 },
 "nbformat": 4,
 "nbformat_minor": 5
}
