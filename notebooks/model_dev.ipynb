{
 "cells": [
  {
   "cell_type": "markdown",
   "id": "b45b61ba",
   "metadata": {},
   "source": [
    "Library Imports"
   ]
  },
  {
   "cell_type": "code",
   "execution_count": 58,
   "id": "97574065",
   "metadata": {},
   "outputs": [],
   "source": [
    "import numpy as np # linear algebra\n",
    "import pandas as pd # data processing, CSV file I/O (e.g. pd.read_csv)\n",
    "import os\n",
    "import cv2\n",
    "from pathlib import Path\n",
    "import seaborn as sns\n",
    "import matplotlib.pyplot as plt\n"
   ]
  },
  {
   "cell_type": "code",
   "execution_count": 59,
   "id": "5628b68a",
   "metadata": {},
   "outputs": [
    {
     "data": {
      "text/plain": [
       "WindowsPath('data/binary_split')"
      ]
     },
     "execution_count": 59,
     "metadata": {},
     "output_type": "execute_result"
    }
   ],
   "source": [
    "# Define path to the data directory\n",
    "data_dir = Path('data/binary_split')\n",
    "\n",
    "data_dir"
   ]
  },
  {
   "cell_type": "code",
   "execution_count": 60,
   "id": "cdb35c55",
   "metadata": {},
   "outputs": [
    {
     "name": "stdout",
     "output_type": "stream",
     "text": [
      "data\\binary_split\\train\n",
      "data\\binary_split\\train\\tumor\n"
     ]
    }
   ],
   "source": [
    "train_dir = data_dir / 'train'\n",
    "print(train_dir)\n",
    "test_dir = data_dir / 'test'\n",
    "\n",
    "tumor_dir = train_dir / 'tumor'\n",
    "no_tumor_dir = train_dir / 'no_tumor'\n",
    "print(tumor_dir)"
   ]
  },
  {
   "cell_type": "code",
   "execution_count": 62,
   "id": "4cbf2bb4",
   "metadata": {},
   "outputs": [
    {
     "name": "stdout",
     "output_type": "stream",
     "text": [
      "CWD: d:\\ML_Projects\\brainTumorDetection\\notebooks\n",
      "Path: D:\\ML_Projects\\brainTumorDetection\\notebooks\\data\\binary_split\\train\\tumor\n",
      "Dir exists: False\n"
     ]
    },
    {
     "ename": "FileNotFoundError",
     "evalue": "[WinError 3] The system cannot find the path specified: 'data\\\\binary_split\\\\train\\\\tumor'",
     "output_type": "error",
     "traceback": [
      "\u001b[1;31m---------------------------------------------------------------------------\u001b[0m",
      "\u001b[1;31mFileNotFoundError\u001b[0m                         Traceback (most recent call last)",
      "Cell \u001b[1;32mIn[62], line 12\u001b[0m\n\u001b[0;32m     10\u001b[0m \u001b[38;5;28mprint\u001b[39m(\u001b[38;5;124m\"\u001b[39m\u001b[38;5;124mPath:\u001b[39m\u001b[38;5;124m\"\u001b[39m, tumor_dir\u001b[38;5;241m.\u001b[39mresolve())\n\u001b[0;32m     11\u001b[0m \u001b[38;5;28mprint\u001b[39m(\u001b[38;5;124m\"\u001b[39m\u001b[38;5;124mDir exists:\u001b[39m\u001b[38;5;124m\"\u001b[39m, tumor_dir\u001b[38;5;241m.\u001b[39mexists())\n\u001b[1;32m---> 12\u001b[0m \u001b[38;5;28mprint\u001b[39m(\u001b[38;5;124m\"\u001b[39m\u001b[38;5;124mContents:\u001b[39m\u001b[38;5;124m\"\u001b[39m, \u001b[38;5;28;43mlist\u001b[39;49m\u001b[43m(\u001b[49m\u001b[43mtumor_dir\u001b[49m\u001b[38;5;241;43m.\u001b[39;49m\u001b[43miterdir\u001b[49m\u001b[43m(\u001b[49m\u001b[43m)\u001b[49m\u001b[43m)\u001b[49m[:\u001b[38;5;241m5\u001b[39m])\n\u001b[0;32m     15\u001b[0m data_dir \u001b[38;5;241m=\u001b[39m Path(\u001b[38;5;124m\"\u001b[39m\u001b[38;5;124mdata/binary_split\u001b[39m\u001b[38;5;124m\"\u001b[39m)\n\u001b[0;32m     16\u001b[0m train_dir \u001b[38;5;241m=\u001b[39m data_dir \u001b[38;5;241m/\u001b[39m \u001b[38;5;124m\"\u001b[39m\u001b[38;5;124mtrain\u001b[39m\u001b[38;5;124m\"\u001b[39m\n",
      "File \u001b[1;32md:\\conda_installation_path\\envs\\brain_mri_env\\lib\\pathlib.py:1078\u001b[0m, in \u001b[0;36mPath.iterdir\u001b[1;34m(self)\u001b[0m\n\u001b[0;32m   1074\u001b[0m \u001b[38;5;28;01mdef\u001b[39;00m\u001b[38;5;250m \u001b[39m\u001b[38;5;21miterdir\u001b[39m(\u001b[38;5;28mself\u001b[39m):\n\u001b[0;32m   1075\u001b[0m \u001b[38;5;250m    \u001b[39m\u001b[38;5;124;03m\"\"\"Iterate over the files in this directory.  Does not yield any\u001b[39;00m\n\u001b[0;32m   1076\u001b[0m \u001b[38;5;124;03m    result for the special paths '.' and '..'.\u001b[39;00m\n\u001b[0;32m   1077\u001b[0m \u001b[38;5;124;03m    \"\"\"\u001b[39;00m\n\u001b[1;32m-> 1078\u001b[0m     \u001b[38;5;28;01mfor\u001b[39;00m name \u001b[38;5;129;01min\u001b[39;00m \u001b[38;5;28;43mself\u001b[39;49m\u001b[38;5;241;43m.\u001b[39;49m\u001b[43m_accessor\u001b[49m\u001b[38;5;241;43m.\u001b[39;49m\u001b[43mlistdir\u001b[49m\u001b[43m(\u001b[49m\u001b[38;5;28;43mself\u001b[39;49m\u001b[43m)\u001b[49m:\n\u001b[0;32m   1079\u001b[0m         \u001b[38;5;28;01mif\u001b[39;00m name \u001b[38;5;129;01min\u001b[39;00m {\u001b[38;5;124m'\u001b[39m\u001b[38;5;124m.\u001b[39m\u001b[38;5;124m'\u001b[39m, \u001b[38;5;124m'\u001b[39m\u001b[38;5;124m..\u001b[39m\u001b[38;5;124m'\u001b[39m}:\n\u001b[0;32m   1080\u001b[0m             \u001b[38;5;66;03m# Yielding a path object for these makes little sense\u001b[39;00m\n\u001b[0;32m   1081\u001b[0m             \u001b[38;5;28;01mcontinue\u001b[39;00m\n",
      "\u001b[1;31mFileNotFoundError\u001b[0m: [WinError 3] The system cannot find the path specified: 'data\\\\binary_split\\\\train\\\\tumor'"
     ]
    }
   ],
   "source": [
    "from pathlib import Path\n",
    "import glob\n",
    "\n",
    "import os\n",
    "\n",
    "data_dir = Path(\"data/binary_split\")\n",
    "tumor_dir = data_dir / \"train\" / \"tumor\"\n",
    "\n",
    "print(\"CWD:\", os.getcwd())\n",
    "print(\"Path:\", tumor_dir.resolve())\n",
    "print(\"Dir exists:\", tumor_dir.exists())\n",
    "print(\"Contents:\", list(tumor_dir.iterdir())[:5])\n",
    "\n",
    "\n",
    "data_dir = Path(\"data/binary_split\")\n",
    "train_dir = data_dir / \"train\"\n",
    "tumor_dir = train_dir / \"tumor\"\n",
    "no_tumor_dir = train_dir / \"no_tumor\"\n",
    "\n",
    "# Method 1 (glob)\n",
    "new = glob.glob(str(tumor_dir / \"*.jpg\"))\n",
    "print(f\"Found {len(new)} image files in the tumor directory (glob).\")\n",
    "\n",
    "# Method 2 (Pathlib)\n",
    "tumor_cases = list(tumor_dir.glob(\"*.jpg\"))\n",
    "no_tumor_cases = list(no_tumor_dir.glob(\"*.jpg\"))\n",
    "\n",
    "print(f\"Tumor Cases: {len(tumor_cases)}\")\n",
    "print(f\"No Tumor Cases: {len(no_tumor_cases)}\")\n",
    "\n",
    "# See some file names\n",
    "for case in tumor_cases[:5]:\n",
    "    print(case.name)\n"
   ]
  },
  {
   "cell_type": "code",
   "execution_count": null,
   "id": "7667e796",
   "metadata": {},
   "outputs": [],
   "source": []
  }
 ],
 "metadata": {
  "kernelspec": {
   "display_name": "brain_mri_env",
   "language": "python",
   "name": "python3"
  },
  "language_info": {
   "codemirror_mode": {
    "name": "ipython",
    "version": 3
   },
   "file_extension": ".py",
   "mimetype": "text/x-python",
   "name": "python",
   "nbconvert_exporter": "python",
   "pygments_lexer": "ipython3",
   "version": "3.9.23"
  }
 },
 "nbformat": 4,
 "nbformat_minor": 5
}
